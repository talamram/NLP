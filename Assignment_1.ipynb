{
  "cells": [
    {
      "cell_type": "markdown",
      "metadata": {
        "id": "view-in-github",
        "colab_type": "text"
      },
      "source": [
        "<a href=\"https://colab.research.google.com/github/talamram/NLP/blob/main/Assignment_1.ipynb\" target=\"_parent\"><img src=\"https://colab.research.google.com/assets/colab-badge.svg\" alt=\"Open In Colab\"/></a>"
      ]
    },
    {
      "cell_type": "markdown",
      "metadata": {
        "id": "FECp14-d_F2e"
      },
      "source": [
        "# Set up"
      ]
    },
    {
      "cell_type": "code",
      "execution_count": 21,
      "metadata": {
        "colab": {
          "base_uri": "https://localhost:8080/"
        },
        "id": "za-DgcYB_IQx",
        "outputId": "0e17140c-b0c6-495e-86a3-b0266fd07faf"
      },
      "outputs": [
        {
          "output_type": "stream",
          "name": "stdout",
          "text": [
            "Cloning into '2025_assignment_1'...\n",
            "remote: Enumerating objects: 71, done.\u001b[K\n",
            "remote: Counting objects:   1% (1/71)\u001b[K\rremote: Counting objects:   2% (2/71)\u001b[K\rremote: Counting objects:   4% (3/71)\u001b[K\rremote: Counting objects:   5% (4/71)\u001b[K\rremote: Counting objects:   7% (5/71)\u001b[K\rremote: Counting objects:   8% (6/71)\u001b[K\rremote: Counting objects:   9% (7/71)\u001b[K\rremote: Counting objects:  11% (8/71)\u001b[K\rremote: Counting objects:  12% (9/71)\u001b[K\rremote: Counting objects:  14% (10/71)\u001b[K\rremote: Counting objects:  15% (11/71)\u001b[K\rremote: Counting objects:  16% (12/71)\u001b[K\rremote: Counting objects:  18% (13/71)\u001b[K\rremote: Counting objects:  19% (14/71)\u001b[K\rremote: Counting objects:  21% (15/71)\u001b[K\rremote: Counting objects:  22% (16/71)\u001b[K\rremote: Counting objects:  23% (17/71)\u001b[K\rremote: Counting objects:  25% (18/71)\u001b[K\rremote: Counting objects:  26% (19/71)\u001b[K\rremote: Counting objects:  28% (20/71)\u001b[K\rremote: Counting objects:  29% (21/71)\u001b[K\rremote: Counting objects:  30% (22/71)\u001b[K\rremote: Counting objects:  32% (23/71)\u001b[K\rremote: Counting objects:  33% (24/71)\u001b[K\rremote: Counting objects:  35% (25/71)\u001b[K\rremote: Counting objects:  36% (26/71)\u001b[K\rremote: Counting objects:  38% (27/71)\u001b[K\rremote: Counting objects:  39% (28/71)\u001b[K\rremote: Counting objects:  40% (29/71)\u001b[K\rremote: Counting objects:  42% (30/71)\u001b[K\rremote: Counting objects:  43% (31/71)\u001b[K\rremote: Counting objects:  45% (32/71)\u001b[K\rremote: Counting objects:  46% (33/71)\u001b[K\rremote: Counting objects:  47% (34/71)\u001b[K\rremote: Counting objects:  49% (35/71)\u001b[K\rremote: Counting objects:  50% (36/71)\u001b[K\rremote: Counting objects:  52% (37/71)\u001b[K\rremote: Counting objects:  53% (38/71)\u001b[K\rremote: Counting objects:  54% (39/71)\u001b[K\rremote: Counting objects:  56% (40/71)\u001b[K\rremote: Counting objects:  57% (41/71)\u001b[K\rremote: Counting objects:  59% (42/71)\u001b[K\rremote: Counting objects:  60% (43/71)\u001b[K\rremote: Counting objects:  61% (44/71)\u001b[K\rremote: Counting objects:  63% (45/71)\u001b[K\rremote: Counting objects:  64% (46/71)\u001b[K\rremote: Counting objects:  66% (47/71)\u001b[K\rremote: Counting objects:  67% (48/71)\u001b[K\rremote: Counting objects:  69% (49/71)\u001b[K\rremote: Counting objects:  70% (50/71)\u001b[K\rremote: Counting objects:  71% (51/71)\u001b[K\rremote: Counting objects:  73% (52/71)\u001b[K\rremote: Counting objects:  74% (53/71)\u001b[K\rremote: Counting objects:  76% (54/71)\u001b[K\rremote: Counting objects:  77% (55/71)\u001b[K\rremote: Counting objects:  78% (56/71)\u001b[K\rremote: Counting objects:  80% (57/71)\u001b[K\rremote: Counting objects:  81% (58/71)\u001b[K\rremote: Counting objects:  83% (59/71)\u001b[K\rremote: Counting objects:  84% (60/71)\u001b[K\rremote: Counting objects:  85% (61/71)\u001b[K\rremote: Counting objects:  87% (62/71)\u001b[K\rremote: Counting objects:  88% (63/71)\u001b[K\rremote: Counting objects:  90% (64/71)\u001b[K\rremote: Counting objects:  91% (65/71)\u001b[K\rremote: Counting objects:  92% (66/71)\u001b[K\rremote: Counting objects:  94% (67/71)\u001b[K\rremote: Counting objects:  95% (68/71)\u001b[K\rremote: Counting objects:  97% (69/71)\u001b[K\rremote: Counting objects:  98% (70/71)\u001b[K\rremote: Counting objects: 100% (71/71)\u001b[K\rremote: Counting objects: 100% (71/71), done.\u001b[K\n",
            "remote: Compressing objects: 100% (54/54), done.\u001b[K\n",
            "remote: Total 71 (delta 24), reused 44 (delta 9), pack-reused 0 (from 0)\u001b[K\n",
            "Receiving objects: 100% (71/71), 7.05 MiB | 21.82 MiB/s, done.\n",
            "Resolving deltas: 100% (24/24), done.\n",
            "mv: cannot move '2025_assignment_1/data' to 'data/data': Directory not empty\n"
          ]
        }
      ],
      "source": [
        "!git clone https://github.com/NLP-Reichman/2025_assignment_1.git\n",
        "!mv 2025_assignment_1/data data\n",
        "!rm 2025_assignment_1/ -r"
      ]
    },
    {
      "cell_type": "markdown",
      "metadata": {
        "id": "0i2bOXTB8Dvc"
      },
      "source": [
        "# Introduction\n",
        "In this assignment you will be creating tools for learning and testing language models. The corpora that you will be working with are lists of tweets in 8 different languages that use the Latin script. The data is provided either formatted as CSV or as JSON, for your convenience. The end goal is to write a set of tools that can detect the language of a given tweet.\n",
        "The relevant files are under the data folder:\n",
        "\n",
        "- en.csv (or the equivalent JSON file)\n",
        "- es.csv (or the equivalent JSON file)\n",
        "- fr.csv (or the equivalent JSON file)\n",
        "- in.csv (or the equivalent JSON file)\n",
        "- it.csv (or the equivalent JSON file)\n",
        "- nl.csv (or the equivalent JSON file)\n",
        "- pt.csv (or the equivalent JSON file)\n",
        "- tl.csv (or the equivalent JSON file)"
      ]
    },
    {
      "cell_type": "code",
      "execution_count": 22,
      "metadata": {
        "id": "1u1qR7iaq_GU"
      },
      "outputs": [],
      "source": [
        "import os\n",
        "import json\n",
        "from google.colab import files\n",
        "import pandas as pd\n",
        "import numpy as np\n",
        "from itertools import product"
      ]
    },
    {
      "cell_type": "markdown",
      "metadata": {
        "id": "IHN0tWTurwkN"
      },
      "source": [
        "# Implementation"
      ]
    },
    {
      "cell_type": "markdown",
      "metadata": {
        "id": "i56aKA0K8adr"
      },
      "source": [
        "## Part 1\n",
        "Implement the function *preprocess* that iterates over all the data files and creates a single vocabulary, containing all the tokens in the data. Our token definition is a single UTF-8 encoded character. So, the vocabulary list is a simple Python list of all the characters that you see at least once in the data. The vocabulary should include the `<start>` and  `<end>` tokens.\n",
        "\n",
        "Note - do NOT lowecase the sentences."
      ]
    },
    {
      "cell_type": "code",
      "execution_count": 23,
      "metadata": {
        "id": "ws_5u7vRrg0o"
      },
      "outputs": [],
      "source": [
        "import csv\n",
        "def preprocess() -> list[str]:\n",
        "  '''\n",
        "  Return a list of characters, representing the shared vocabulary of all languages\n",
        "  '''\n",
        "  vocab = []\n",
        "  ########################################\n",
        "  seen = set()\n",
        "  csv_files = ['data/en.csv',\n",
        "                'data/es.csv',\n",
        "                'data/fr.csv',\n",
        "                'data/in.csv',\n",
        "                'data/it.csv',\n",
        "                'data/nl.csv',\n",
        "                'data/pt.csv',\n",
        "                'data/tl.csv']\n",
        "\n",
        "  vocab = ['<start>', '<end>']\n",
        "  for path in csv_files:\n",
        "      with open(path, 'r', newline='', encoding='utf-8') as csv_file:\n",
        "          reader = csv.reader(csv_file)\n",
        "          next(reader, None)\n",
        "          for row in reader:\n",
        "              for ch in row[1]:\n",
        "                  if ch not in seen:\n",
        "                      vocab.append(ch)\n",
        "                      seen.add(ch)\n",
        "\n",
        "  ########################################\n",
        "  return vocab"
      ]
    },
    {
      "cell_type": "code",
      "execution_count": 24,
      "metadata": {
        "id": "-1jcvg0jtMjF"
      },
      "outputs": [],
      "source": [
        "# vocab = preprocess()\n",
        "# print(f\"vocab length: {len(vocab)}\")\n",
        "# print(f\"Some characters in the vocab: {vocab[:10]}\")"
      ]
    },
    {
      "cell_type": "markdown",
      "metadata": {
        "id": "tpjtwHW08jyH"
      },
      "source": [
        "## Part 2\n",
        "Implement the function *build_lm* that generates a language model from a textual corpus. The function should return a dictionary (representing a model) where the keys are all the relevant *n*-1 sequences, and the values are dictionaries with the *n*_th tokens and their corresponding probabilities to occur. To ensure consistent probabilities calculation, please add n-1 `<start>` tokens to the beginning of a tweet and one `<end>` token at the end. For example, for a trigram model (tokens are characters), it should look something like:\n",
        "\n",
        "{ \"ab\":{\"c\":0.5, \"b\":0.25, \"d\":0.25}, \"ca\":{\"a\":0.2, \"b\":0.7, \"d\":0.1} }\n",
        "\n",
        "which means for example that after the sequence \"ab\", there is a 0.5 chance that \"c\" will appear, 0.25 for \"b\" to appear and 0.25 for \"d\" to appear.\n",
        "\n",
        "Note - You should think how to add the add-one smoothing information to the dictionary and implement it.\n",
        "\n",
        "Please add the `<unk>` token with $p(<unk>)=1/|V|$ to the LM if buiulding a smoothed LM."
      ]
    },
    {
      "cell_type": "code",
      "execution_count": 25,
      "metadata": {
        "id": "uySEXdEUrkq_"
      },
      "outputs": [],
      "source": [
        "import math\n",
        "from collections import deque\n",
        "def build_lm(lang: str, n: int, smoothed: bool = False) -> dict[str, dict[str, float]]:\n",
        "  '''\n",
        "  Return a language model for the given lang and n_gram (n)\n",
        "  :param lang: the language of the model\n",
        "  :param n: the n_gram value\n",
        "  :param smoothed: boolean indicating whether to apply smoothing\n",
        "  :return: a dictionary where the keys are n_grams and the values are dictionaries\n",
        "  '''\n",
        "  LM = {}\n",
        "  ########################################\n",
        "  vocab = preprocess()\n",
        "  vocab_len = len(vocab)\n",
        "  max_size = n - 1\n",
        "\n",
        "  csv_path = f'data/{lang}.csv'\n",
        "  with open(csv_path, 'r', newline='', encoding='utf-8') as csv_file:\n",
        "      reader = csv.reader(csv_file)\n",
        "      next(reader, None)\n",
        "      for row in reader:\n",
        "          q = deque(['<start>'] * max_size, maxlen=max_size)\n",
        "          chars = list(row[1])\n",
        "          chars.append('<end>')\n",
        "          for ch in chars:\n",
        "              key = ''.join(str(x) for x in q)\n",
        "              value = ch\n",
        "              if key in LM:\n",
        "                  if value in LM[key]:\n",
        "                      LM[key][value] = LM[key][value] + 1\n",
        "                  else:\n",
        "                      LM[key][value] = 1\n",
        "              else:\n",
        "                  LM[key] = {}\n",
        "                  LM[key][value] = 1\n",
        "              q.append(ch)\n",
        "\n",
        "  # normalize the probabilities\n",
        "  if smoothed:\n",
        "      for ngram in LM:\n",
        "          total_count = sum(LM[ngram].values())\n",
        "          for token in LM[ngram]:\n",
        "              LM[ngram][token] += 1\n",
        "              LM[ngram][token] /= (total_count + vocab_len)\n",
        "      LM['<unk>'] = {v : 1 / vocab_len for v in vocab}\n",
        "  else:\n",
        "      for ngram in LM:\n",
        "          total_count = sum(LM[ngram].values())\n",
        "          for token in LM[ngram]:\n",
        "              LM[ngram][token] /= total_count\n",
        "  ########################################\n",
        "  return LM"
      ]
    },
    {
      "cell_type": "code",
      "execution_count": 26,
      "metadata": {
        "id": "d9mqbEhBttmm"
      },
      "outputs": [],
      "source": [
        "# LM = build_lm(\"en\", 3, False)\n",
        "# print(f\"English Language Model with 3-gram is of length: {len(LM)}\")"
      ]
    },
    {
      "cell_type": "code",
      "source": [
        "# # TO DELETEEEEEEE\n",
        "\n",
        "# vocab_size = len(preprocess())"
      ],
      "metadata": {
        "id": "jtwJL9FU3VjS"
      },
      "execution_count": 27,
      "outputs": []
    },
    {
      "cell_type": "markdown",
      "metadata": {
        "id": "xwZnk7Ke8rW5"
      },
      "source": [
        "## Part 3\n",
        "Implement the function *eval* that returns the perplexity of a model (dictionary) running over the data file of the given target language.\n",
        "\n",
        "The `<unk>` should be used for unknown contexts when calculating the perplexities."
      ]
    },
    {
      "cell_type": "code",
      "execution_count": 28,
      "metadata": {
        "id": "y9w8u411uJeq"
      },
      "outputs": [],
      "source": [
        "def perplexity(model: dict, text: list, n) -> float:\n",
        "  '''\n",
        "  Calculates the perplexity of the given string using the given language model.\n",
        "  :param model: The language model\n",
        "  :param text: The tokenized text to calculate the perplexity for\n",
        "  :param n: The n-gram of the model\n",
        "  :return: The perplexity\n",
        "  '''\n",
        "  pp = 0\n",
        "  #######################################\n",
        "  max_size = n - 1\n",
        "  q = deque(['<start>'] * max_size, maxlen=max_size)\n",
        "  chars = list(text)\n",
        "  chars.append('<end>')\n",
        "  prob_sum = 0\n",
        "  prob_count = 0\n",
        "  for ch in chars:\n",
        "      prob_count += 1\n",
        "      ngrams = ''.join(str(x) for x in q)\n",
        "      token = ch\n",
        "      if ngrams in model and token in model[ngrams]:\n",
        "          prob = model[ngrams][token]\n",
        "      else:\n",
        "          # print(f\"WHAT TO DOOOOOOO ngrams: {ngrams} token: {token}\")\n",
        "          # prob = 1 / len(preprocess())\n",
        "          prob = 1 / vocab_size\n",
        "      prob_sum += math.log2(prob)\n",
        "      q.append(ch)\n",
        "  entropy = (-1 / prob_count) * prob_sum\n",
        "  pp = 2 ** entropy\n",
        "\n",
        "  ########################################\n",
        "  return pp"
      ]
    },
    {
      "cell_type": "code",
      "execution_count": 29,
      "metadata": {
        "id": "ef-EglxXrmk2"
      },
      "outputs": [],
      "source": [
        "def eval(model: dict, target_lang: str, n: int) -> float:\n",
        "  '''\n",
        "  Return the perplexity value calculated over applying the model on the text file\n",
        "  of the target_lang language.\n",
        "  :param model: the language model\n",
        "  :param target_lang: the target language\n",
        "  :param n: The n-gram of the model\n",
        "  :return: the perplexity value\n",
        "  '''\n",
        "  pp = 0\n",
        "  ########################################\n",
        "  max_size = n - 1\n",
        "  csv_path = f'data/{target_lang}.csv'\n",
        "  vocab_size = len(preprocess())\n",
        "  prob_count = 0\n",
        "  prob_sum = 0\n",
        "  with open(csv_path, 'r', newline='', encoding='utf-8') as csv_file:\n",
        "      reader = csv.reader(csv_file)\n",
        "      next(reader, None)\n",
        "      for row in reader:\n",
        "          q = deque(['<start>'] * max_size, maxlen=max_size)\n",
        "          chars = list(row[1])\n",
        "          chars.append('<end>')\n",
        "          for ch in chars:\n",
        "            prob_count += 1\n",
        "            ngrams = ''.join(str(x) for x in q)\n",
        "            token = ch\n",
        "            if ngrams in model and token in model[ngrams]:\n",
        "                prob = model[ngrams][token]\n",
        "            else:\n",
        "                # print(f\"WHAT TO DOOOOOOO ngrams: {ngrams} token: {token}\")\n",
        "                # prob = 1 / len(preprocess())\n",
        "                prob = 1 / vocab_size\n",
        "            prob_sum += math.log2(prob)\n",
        "            q.append(ch)\n",
        "      entropy = (-1 / prob_count) * prob_sum\n",
        "      pp = 2 ** entropy\n",
        "  ########################################\n",
        "  return pp\n"
      ]
    },
    {
      "cell_type": "code",
      "source": [
        "# LM = build_lm(\"en\", 3, True)"
      ],
      "metadata": {
        "id": "AIdDFvinBVhx"
      },
      "execution_count": 30,
      "outputs": []
    },
    {
      "cell_type": "code",
      "execution_count": 31,
      "metadata": {
        "id": "1WUouhkBuWJu"
      },
      "outputs": [],
      "source": [
        "# print(\"Perplexity of the English 3-gram model on datasets:\")\n",
        "# print(f\"On English: {eval(LM, 'en', 3): .2f}\")\n",
        "# print(f\"On French: {eval(LM, 'fr', 3): .2f}\")\n",
        "# print(f\"On Dutch: {eval(LM, 'nl', 3): .2f}\")\n",
        "# print(f\"On Tagalog: {eval(LM, 'tl', 3): .2f}\")\n"
      ]
    },
    {
      "cell_type": "code",
      "source": [
        "# lm1 = build_lm(\"en\", 1, True)\n",
        "# lm2 = build_lm(\"en\", 2, True)\n",
        "# lm3 = build_lm(\"en\", 3, True)\n",
        "# lm4 = build_lm(\"en\", 4, True)\n",
        "\n",
        "# print(\"Perplexity on differnet n-gram models on English\")\n",
        "# print(f\"On 1-gram: {eval(lm1, 'en', 1): .2f}\")\n",
        "# print(f\"On 2-gram: {eval(lm2, 'en', 2): .2f}\")\n",
        "# print(f\"On 3-gram: {eval(lm3, 'en', 3): .2f}\")\n",
        "# print(f\"On 4-gram: {eval(lm4, 'en', 4): .2f}\")"
      ],
      "metadata": {
        "id": "5XP3ZIpLqB6r"
      },
      "execution_count": 32,
      "outputs": []
    },
    {
      "cell_type": "markdown",
      "metadata": {
        "id": "9ZYVc7hB84LP"
      },
      "source": [
        "## Part 4\n",
        "Implement the *match* function that calls *eval* using a specific value of *n* for every possible language pair among the languages we have data for. You should call *eval* for every language pair four times, with each call assign a different value for *n* (1-4). Each language pair is composed of the source language and the target language. Before you make the call, you need to call the *lm* function to create the language model for the source language. Then you can call *eval* with the language model and the target language. The function should return a pandas DataFrame with the following four columns: *source_lang*, *target_lang*, *n*, *perplexity*. The values for the first two columns are the two-letter language codes. The value for *n* is the *n* you use for generating the specific perplexity values which you should store in the forth column."
      ]
    },
    {
      "cell_type": "code",
      "execution_count": 33,
      "metadata": {
        "id": "tMczigsHuadi"
      },
      "outputs": [],
      "source": [
        "languages = ['en', 'es', 'fr', 'in', 'it', 'nl', 'pt', 'tl']"
      ]
    },
    {
      "cell_type": "code",
      "execution_count": 34,
      "metadata": {
        "id": "16ew9aZWroPC"
      },
      "outputs": [],
      "source": [
        "from itertools import product\n",
        "def match() -> pd.DataFrame:\n",
        "  '''\n",
        "  Return a DataFrame containing one line per every language pair and n_gram.\n",
        "  Each line will contain the perplexity calculated when applying the language model\n",
        "  of the source language on the text of the target language.\n",
        "  :return: a DataFrame containing the perplexity values\n",
        "  '''\n",
        "  df  = pd.DataFrame()\n",
        "  ########################################\n",
        "  ngrams  = [1, 2, 3, 4]\n",
        "  records = []\n",
        "\n",
        "  # Using a list comprehension:\n",
        "  triples = [\n",
        "      (src_lang, target_lang, n)\n",
        "      for n in ngrams\n",
        "      for src_lang in languages\n",
        "      for target_lang in languages\n",
        "  ]\n",
        "  for triple in triples:\n",
        "    LM = build_lm(triple[0], triple[2], False)\n",
        "    prep = eval(LM, triple[1], triple[2])\n",
        "    records.append({\n",
        "                'source': triple[0],\n",
        "                'target': triple[1],\n",
        "                'n': triple[2],\n",
        "                'perplexity': prep\n",
        "            })\n",
        "  df = pd.DataFrame(records)\n",
        "  ########################################\n",
        "  return df\n"
      ]
    },
    {
      "cell_type": "code",
      "source": [
        "# m = match()"
      ],
      "metadata": {
        "id": "V9YxzPTZ-GXJ"
      },
      "execution_count": 35,
      "outputs": []
    },
    {
      "cell_type": "code",
      "source": [
        "# m[:50]"
      ],
      "metadata": {
        "id": "HY7j3WnJEJer"
      },
      "execution_count": 36,
      "outputs": []
    },
    {
      "cell_type": "markdown",
      "metadata": {
        "id": "pAQoR0dH9C3T"
      },
      "source": [
        "## Part 5\n",
        "Implement the *generate* function which takes a language code, *n*, the prompt (the starting text), the number of tokens to generate, and *r*, which is the random seed for any randomized action you plan to take in your implementation. The function should start generating tokens, one by one, using the language model of the given source language and *n*. The prompt should be used as a starting point for aligning on the probabilities to be used for generating the next token. For this exercise, you may assume a valid input in the respective language.\n",
        "\n",
        "Note - The generation of the next token should be from the LM's distribution with NO smoothing."
      ]
    },
    {
      "cell_type": "code",
      "execution_count": 47,
      "metadata": {
        "id": "CpCm24-RrpuA"
      },
      "outputs": [],
      "source": [
        "import random\n",
        "def generate(lang: str, n: int, prompt: str, number_of_tokens: int, r: int) -> str:\n",
        "  '''\n",
        "  Generate text in the given language using the given parameters.\n",
        "  :param lang: the language of the model\n",
        "  :param n: the n_gram value\n",
        "  :param prompt: the prompt to start the generation\n",
        "  :param number_of_tokens: the number of tokens to generate\n",
        "  :param r: the random seed to use\n",
        "  '''\n",
        "  text = \"\"\n",
        "  ########################################\n",
        "  text = prompt\n",
        "  max_size = n - 1\n",
        "  LM = build_lm(lang, n, False)\n",
        "  q = deque(prompt[-(max_size):], maxlen=max_size)\n",
        "  random.seed(r)\n",
        "  for token_iter in range(number_of_tokens):\n",
        "    ngrams = ''.join(str(x) for x in q)\n",
        "    options = LM[ngrams]\n",
        "    # options.pop('<unk>', None)\n",
        "    choices = list(options.keys())\n",
        "    weights = list(options.values())\n",
        "    chosen_token = random.choices(choices, weights=weights, k=1)[0]\n",
        "    if chosen_token == '<end>':\n",
        "      return text\n",
        "    text = text + chosen_token\n",
        "    q.append(chosen_token)\n",
        "  ########################################\n",
        "  return text"
      ]
    },
    {
      "cell_type": "code",
      "source": [],
      "metadata": {
        "id": "_SGIjhOuFBix"
      },
      "execution_count": 37,
      "outputs": []
    },
    {
      "cell_type": "markdown",
      "metadata": {
        "id": "eUWX8Ugu9INH"
      },
      "source": [
        "## Part 6\n",
        "Play with your generate function, try to generate different texts in different language and various values of *n*. No need to submit anything of that."
      ]
    },
    {
      "cell_type": "code",
      "execution_count": 51,
      "metadata": {
        "colab": {
          "base_uri": "https://localhost:8080/"
        },
        "id": "0ykbMBzG9LWn",
        "outputId": "a522592b-c702-4e01-8eaf-911bfb0004f3"
      },
      "outputs": [
        {
          "output_type": "stream",
          "name": "stdout",
          "text": [
            "I amtpgLpC eLh\n",
            "I amoulpeginSh\n",
            "I amit: Lynmkm\n",
            "I am carrive Ob\n",
            "Soycalíodenye\n",
            "Soy orbe\n",
            "Je suis:/opapropa\n",
            "Je suis tune\n"
          ]
        }
      ],
      "source": [
        "print(generate('en', 1, \"I am\", 10, 5))\n",
        "print(generate('en', 2, \"I am\", 10, 5))\n",
        "print(generate('en', 3, \"I am\", 10, 5))\n",
        "print(generate('en', 4, \"I am \", 10, 5))\n",
        "print(generate('es', 2, \"Soy\", 10, 5))\n",
        "print(generate('es', 3, \"Soy\", 10, 5))\n",
        "print(generate('fr', 2, \"Je suis\", 10, 5))\n",
        "print(generate('fr', 3, \"Je suis\", 10, 5))"
      ]
    },
    {
      "cell_type": "code",
      "source": [
        "print(generate('en', 2, \"I am\", 20, 5))\n",
        "print(generate('en', 3, \"I am\", 20, 5))\n",
        "print(generate('en', 4, \"I Love\", 20, 5))\n",
        "print(generate('es', 2, \"Soy\", 20, 5))\n",
        "print(generate('es', 3, \"Soy\", 20, 5))\n",
        "print(generate('fr', 2, \"Je suis\", 20, 5))\n",
        "print(generate('fr', 3, \"Je suis\", 20, 5))"
      ],
      "metadata": {
        "id": "Rrh_PRHIJNfB",
        "outputId": "15a08470-897c-4e5f-e3b9-e677a765fd9c",
        "colab": {
          "base_uri": "https://localhost:8080/"
        }
      },
      "execution_count": 52,
      "outputs": [
        {
          "output_type": "stream",
          "name": "stdout",
          "text": [
            "I amoulpeginShmee bie ae\n",
            "I amit: Lynmkm ways.\n",
            "I Love gifts @OndMade a no\n",
            "Soycalíodenyegucosie ew\n",
            "Soy orbe\n",
            "Je suis:/opapropades tprisl\n",
            "Je suis tune\n"
          ]
        }
      ]
    },
    {
      "cell_type": "markdown",
      "metadata": {
        "id": "q2jNlDISr9aL"
      },
      "source": [
        "# Testing"
      ]
    },
    {
      "cell_type": "markdown",
      "metadata": {
        "id": "uv48OCT_sIYW"
      },
      "source": [
        "Copy the content of the **tests.py** file from the repo and paste below. This will create the results.json file and download it to your machine."
      ]
    },
    {
      "cell_type": "code",
      "execution_count": 53,
      "metadata": {
        "colab": {
          "base_uri": "https://localhost:8080/",
          "height": 283
        },
        "id": "JZTlc2ieruqq",
        "outputId": "03766007-af66-46f3-eb0b-73a7cc94e317"
      },
      "outputs": [
        {
          "output_type": "error",
          "ename": "KeyboardInterrupt",
          "evalue": "",
          "traceback": [
            "\u001b[0;31m---------------------------------------------------------------------------\u001b[0m",
            "\u001b[0;31mKeyboardInterrupt\u001b[0m                         Traceback (most recent call last)",
            "\u001b[0;32m<ipython-input-53-c7c2e3675237>\u001b[0m in \u001b[0;36m<cell line: 0>\u001b[0;34m()\u001b[0m\n\u001b[1;32m     51\u001b[0m \u001b[0;32mfor\u001b[0m \u001b[0mtest\u001b[0m \u001b[0;32min\u001b[0m \u001b[0mTESTS\u001b[0m\u001b[0;34m:\u001b[0m\u001b[0;34m\u001b[0m\u001b[0;34m\u001b[0m\u001b[0m\n\u001b[1;32m     52\u001b[0m     \u001b[0;32mtry\u001b[0m\u001b[0;34m:\u001b[0m\u001b[0;34m\u001b[0m\u001b[0;34m\u001b[0m\u001b[0m\n\u001b[0;32m---> 53\u001b[0;31m         \u001b[0mcur_res\u001b[0m \u001b[0;34m=\u001b[0m \u001b[0mtest\u001b[0m\u001b[0;34m(\u001b[0m\u001b[0;34m)\u001b[0m\u001b[0;34m\u001b[0m\u001b[0;34m\u001b[0m\u001b[0m\n\u001b[0m\u001b[1;32m     54\u001b[0m         \u001b[0mres\u001b[0m\u001b[0;34m.\u001b[0m\u001b[0mupdate\u001b[0m\u001b[0;34m(\u001b[0m\u001b[0;34m{\u001b[0m\u001b[0mtest\u001b[0m\u001b[0;34m.\u001b[0m\u001b[0m__name__\u001b[0m\u001b[0;34m:\u001b[0m \u001b[0mcur_res\u001b[0m\u001b[0;34m}\u001b[0m\u001b[0;34m)\u001b[0m\u001b[0;34m\u001b[0m\u001b[0;34m\u001b[0m\u001b[0m\n\u001b[1;32m     55\u001b[0m     \u001b[0;32mexcept\u001b[0m \u001b[0mException\u001b[0m \u001b[0;32mas\u001b[0m \u001b[0me\u001b[0m\u001b[0;34m:\u001b[0m\u001b[0;34m\u001b[0m\u001b[0;34m\u001b[0m\u001b[0m\n",
            "\u001b[0;32m<ipython-input-53-c7c2e3675237>\u001b[0m in \u001b[0;36mtest_eval\u001b[0;34m()\u001b[0m\n\u001b[1;32m     18\u001b[0m     \u001b[0mlm\u001b[0m \u001b[0;34m=\u001b[0m \u001b[0mbuild_lm\u001b[0m\u001b[0;34m(\u001b[0m\u001b[0;34m'en'\u001b[0m\u001b[0;34m,\u001b[0m \u001b[0;36m3\u001b[0m\u001b[0;34m,\u001b[0m \u001b[0;32mTrue\u001b[0m\u001b[0;34m)\u001b[0m\u001b[0;34m\u001b[0m\u001b[0;34m\u001b[0m\u001b[0m\n\u001b[1;32m     19\u001b[0m     return {\n\u001b[0;32m---> 20\u001b[0;31m         \u001b[0;34m'en_on_en'\u001b[0m\u001b[0;34m:\u001b[0m \u001b[0mround\u001b[0m\u001b[0;34m(\u001b[0m\u001b[0meval\u001b[0m\u001b[0;34m(\u001b[0m\u001b[0mlm\u001b[0m\u001b[0;34m,\u001b[0m \u001b[0;34m'en'\u001b[0m\u001b[0;34m,\u001b[0m \u001b[0;36m3\u001b[0m\u001b[0;34m)\u001b[0m\u001b[0;34m,\u001b[0m \u001b[0;36m2\u001b[0m\u001b[0;34m)\u001b[0m\u001b[0;34m,\u001b[0m\u001b[0;34m\u001b[0m\u001b[0;34m\u001b[0m\u001b[0m\n\u001b[0m\u001b[1;32m     21\u001b[0m         \u001b[0;34m'en_on_fr'\u001b[0m\u001b[0;34m:\u001b[0m \u001b[0mround\u001b[0m\u001b[0;34m(\u001b[0m\u001b[0meval\u001b[0m\u001b[0;34m(\u001b[0m\u001b[0mlm\u001b[0m\u001b[0;34m,\u001b[0m \u001b[0;34m'fr'\u001b[0m\u001b[0;34m,\u001b[0m \u001b[0;36m3\u001b[0m\u001b[0;34m)\u001b[0m\u001b[0;34m,\u001b[0m \u001b[0;36m2\u001b[0m\u001b[0;34m)\u001b[0m\u001b[0;34m,\u001b[0m\u001b[0;34m\u001b[0m\u001b[0;34m\u001b[0m\u001b[0m\n\u001b[1;32m     22\u001b[0m         \u001b[0;34m'en_on_tl'\u001b[0m\u001b[0;34m:\u001b[0m \u001b[0mround\u001b[0m\u001b[0;34m(\u001b[0m\u001b[0meval\u001b[0m\u001b[0;34m(\u001b[0m\u001b[0mlm\u001b[0m\u001b[0;34m,\u001b[0m \u001b[0;34m'tl'\u001b[0m\u001b[0;34m,\u001b[0m \u001b[0;36m3\u001b[0m\u001b[0;34m)\u001b[0m\u001b[0;34m,\u001b[0m \u001b[0;36m2\u001b[0m\u001b[0;34m)\u001b[0m\u001b[0;34m,\u001b[0m\u001b[0;34m\u001b[0m\u001b[0;34m\u001b[0m\u001b[0m\n",
            "\u001b[0;32m<ipython-input-29-bc5c36b95299>\u001b[0m in \u001b[0;36meval\u001b[0;34m(model, target_lang, n)\u001b[0m\n\u001b[1;32m     22\u001b[0m   \u001b[0mmax_size\u001b[0m \u001b[0;34m=\u001b[0m \u001b[0mn\u001b[0m \u001b[0;34m-\u001b[0m \u001b[0;36m1\u001b[0m\u001b[0;34m\u001b[0m\u001b[0;34m\u001b[0m\u001b[0m\n\u001b[1;32m     23\u001b[0m   \u001b[0mcsv_path\u001b[0m \u001b[0;34m=\u001b[0m \u001b[0;34mf'data/{target_lang}.csv'\u001b[0m\u001b[0;34m\u001b[0m\u001b[0;34m\u001b[0m\u001b[0m\n\u001b[0;32m---> 24\u001b[0;31m   \u001b[0mvocab_size\u001b[0m \u001b[0;34m=\u001b[0m \u001b[0mlen\u001b[0m\u001b[0;34m(\u001b[0m\u001b[0mpreprocess\u001b[0m\u001b[0;34m(\u001b[0m\u001b[0;34m)\u001b[0m\u001b[0;34m)\u001b[0m\u001b[0;34m\u001b[0m\u001b[0;34m\u001b[0m\u001b[0m\n\u001b[0m\u001b[1;32m     25\u001b[0m   \u001b[0mprob_count\u001b[0m \u001b[0;34m=\u001b[0m \u001b[0;36m0\u001b[0m\u001b[0;34m\u001b[0m\u001b[0;34m\u001b[0m\u001b[0m\n\u001b[1;32m     26\u001b[0m   \u001b[0mprob_sum\u001b[0m \u001b[0;34m=\u001b[0m \u001b[0;36m0\u001b[0m\u001b[0;34m\u001b[0m\u001b[0;34m\u001b[0m\u001b[0m\n",
            "\u001b[0;32m<ipython-input-23-1e455c0129d8>\u001b[0m in \u001b[0;36mpreprocess\u001b[0;34m()\u001b[0m\n\u001b[1;32m     21\u001b[0m           \u001b[0mreader\u001b[0m \u001b[0;34m=\u001b[0m \u001b[0mcsv\u001b[0m\u001b[0;34m.\u001b[0m\u001b[0mreader\u001b[0m\u001b[0;34m(\u001b[0m\u001b[0mcsv_file\u001b[0m\u001b[0;34m)\u001b[0m\u001b[0;34m\u001b[0m\u001b[0;34m\u001b[0m\u001b[0m\n\u001b[1;32m     22\u001b[0m           \u001b[0mnext\u001b[0m\u001b[0;34m(\u001b[0m\u001b[0mreader\u001b[0m\u001b[0;34m,\u001b[0m \u001b[0;32mNone\u001b[0m\u001b[0;34m)\u001b[0m\u001b[0;34m\u001b[0m\u001b[0;34m\u001b[0m\u001b[0m\n\u001b[0;32m---> 23\u001b[0;31m           \u001b[0;32mfor\u001b[0m \u001b[0mrow\u001b[0m \u001b[0;32min\u001b[0m \u001b[0mreader\u001b[0m\u001b[0;34m:\u001b[0m\u001b[0;34m\u001b[0m\u001b[0;34m\u001b[0m\u001b[0m\n\u001b[0m\u001b[1;32m     24\u001b[0m               \u001b[0;32mfor\u001b[0m \u001b[0mch\u001b[0m \u001b[0;32min\u001b[0m \u001b[0mrow\u001b[0m\u001b[0;34m[\u001b[0m\u001b[0;36m1\u001b[0m\u001b[0;34m]\u001b[0m\u001b[0;34m:\u001b[0m\u001b[0;34m\u001b[0m\u001b[0;34m\u001b[0m\u001b[0m\n\u001b[1;32m     25\u001b[0m                   \u001b[0;32mif\u001b[0m \u001b[0mch\u001b[0m \u001b[0;32mnot\u001b[0m \u001b[0;32min\u001b[0m \u001b[0mseen\u001b[0m\u001b[0;34m:\u001b[0m\u001b[0;34m\u001b[0m\u001b[0;34m\u001b[0m\u001b[0m\n",
            "\u001b[0;32m/usr/lib/python3.11/codecs.py\u001b[0m in \u001b[0;36mdecode\u001b[0;34m(self, input, final)\u001b[0m\n",
            "\u001b[0;31mKeyboardInterrupt\u001b[0m: "
          ]
        }
      ],
      "source": [
        "########################################\n",
        "# PLACE TESTS HERE #\n",
        "# Create tests\n",
        "def test_preprocess():\n",
        "    return {\n",
        "        'vocab_length': len(preprocess()),\n",
        "    }\n",
        "\n",
        "def test_build_lm():\n",
        "    return {\n",
        "        'english_2_gram_length': len(build_lm('en', 2, True)),\n",
        "        'english_3_gram_length': len(build_lm('en', 3, True)),\n",
        "        'french_3_gram_length': len(build_lm('fr', 3, True)),\n",
        "        'spanish_3_gram_length': len(build_lm('es', 3, True)),\n",
        "    }\n",
        "\n",
        "def test_eval():\n",
        "    lm = build_lm('en', 3, True)\n",
        "    return {\n",
        "        'en_on_en': round(eval(lm, 'en', 3), 2),\n",
        "        'en_on_fr': round(eval(lm, 'fr', 3), 2),\n",
        "        'en_on_tl': round(eval(lm, 'tl', 3), 2),\n",
        "        'en_on_nl': round(eval(lm, 'nl', 3), 2),\n",
        "    }\n",
        "\n",
        "\n",
        "def test_match():\n",
        "    df = match()\n",
        "    return {\n",
        "        'df_shape': df.shape,\n",
        "        'en_en_3': df[(df['source'] == 'en') & (df['target'] == 'en') & (df['n'] == 3)]['perplexity'].values[0],\n",
        "        'en_tl_3': df[(df['source'] == 'en') & (df['target'] == 'tl') & (df['n'] == 3)]['perplexity'].values[0],\n",
        "        'en_nl_3': df[(df['source'] == 'en') & (df['target'] == 'nl') & (df['n'] == 3)]['perplexity'].values[0],\n",
        "    }\n",
        "\n",
        "def test_generate():\n",
        "    return {\n",
        "        'english_2_gram': generate('en', 2, \"I am\", 20, 5),\n",
        "        'english_3_gram': generate('en', 3, \"I am\", 20, 5),\n",
        "        'english_4_gram': generate('en', 4, \"I Love\", 20, 5),\n",
        "        'spanish_2_gram': generate('es', 2, \"Soy\", 20, 5),\n",
        "        'spanish_3_gram': generate('es', 3, \"Soy\", 20, 5),\n",
        "        'french_2_gram': generate('fr', 2, \"Je suis\", 20, 5),\n",
        "        'french_3_gram': generate('fr', 3, \"Je suis\", 20, 5),\n",
        "    }\n",
        "\n",
        "TESTS = [test_preprocess, test_build_lm, test_eval, test_match, test_generate]\n",
        "\n",
        "# Run tests and save results\n",
        "res = {}\n",
        "for test in TESTS:\n",
        "    try:\n",
        "        cur_res = test()\n",
        "        res.update({test.__name__: cur_res})\n",
        "    except Exception as e:\n",
        "        res.update({test.__name__: repr(e)})\n",
        "\n",
        "with open('results.json', 'w') as f:\n",
        "    json.dump(res, f, indent=2)\n",
        "\n",
        "# Download the results.json file\n",
        "files.download('results.json')\n",
        "########################################"
      ]
    },
    {
      "cell_type": "code",
      "execution_count": 40,
      "metadata": {
        "colab": {
          "base_uri": "https://localhost:8080/"
        },
        "id": "0dEpidyrqXTr",
        "outputId": "4383a257-96c9-41da-bd80-c03d5639881a"
      },
      "outputs": [
        {
          "output_type": "stream",
          "name": "stdout",
          "text": [
            "total 12\n",
            "drwxr-xr-x 3 root root 4096 May  1 22:56 data\n",
            "-rw-r--r-- 1 root root  541 May  1 23:14 results.json\n",
            "drwxr-xr-x 1 root root 4096 Apr 30 13:37 sample_data\n"
          ]
        }
      ],
      "source": [
        "# Show the local files, results.json should be there now and\n",
        "# also downloaded to your local machine\n",
        "!ls -l"
      ]
    },
    {
      "cell_type": "code",
      "source": [],
      "metadata": {
        "id": "UA8l8Vg5hPtr"
      },
      "execution_count": 40,
      "outputs": []
    }
  ],
  "metadata": {
    "colab": {
      "provenance": [],
      "include_colab_link": true
    },
    "kernelspec": {
      "display_name": "Python 3",
      "name": "python3"
    },
    "language_info": {
      "name": "python"
    }
  },
  "nbformat": 4,
  "nbformat_minor": 0
}